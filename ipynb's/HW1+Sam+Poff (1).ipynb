{
 "cells": [
  {
   "cell_type": "markdown",
   "metadata": {},
   "source": [
    "## HW1"
   ]
  },
  {
   "cell_type": "markdown",
   "metadata": {},
   "source": [
    "## 5)"
   ]
  },
  {
   "cell_type": "code",
   "execution_count": 101,
   "metadata": {
    "collapsed": false
   },
   "outputs": [],
   "source": [
    "from math import cos, pi\n",
    "\n",
    "def f(x):\n",
    "    return cos(x) - x\n",
    "\n",
    "def bi(a,b):\n",
    "    if f(a) * f(b) > 0:\n",
    "        print ('Chose different a and b.')\n",
    "    for i in range(100):\n",
    "        p = (a + b) / 2.0\n",
    "        if f(a) * f(p) > 0:\n",
    "            a = p\n",
    "        else:\n",
    "            b = p\n",
    "        pNew = (a + b) / 2.0\n",
    "        print(i,abs(pNew - p))\n",
    "        if abs(pNew - p) < 1e-10:\n",
    "            break\n",
    "    return pNew\n"
   ]
  },
  {
   "cell_type": "code",
   "execution_count": 102,
   "metadata": {
    "collapsed": false
   },
   "outputs": [
    {
     "name": "stdout",
     "output_type": "stream",
     "text": [
      "0 0.7853981633974483\n",
      "1 0.39269908169872414\n",
      "2 0.19634954084936207\n",
      "3 0.09817477042468103\n",
      "4 0.04908738521234046\n",
      "5 0.024543692606170286\n",
      "6 0.012271846303085199\n",
      "7 0.006135923151542544\n",
      "8 0.003067961575771272\n",
      "9 0.0015339807878856915\n",
      "10 0.0007669903939429012\n",
      "11 0.0003834951969714506\n",
      "12 0.0001917475984856143\n",
      "13 9.587379924280715e-05\n",
      "14 4.7936899621459084e-05\n",
      "15 2.396844981067403e-05\n",
      "16 1.1984224905337015e-05\n",
      "17 5.992112452668508e-06\n",
      "18 2.996056226445276e-06\n",
      "19 1.498028113222638e-06\n",
      "20 7.490140566668302e-07\n",
      "21 3.7450702827790394e-07\n",
      "22 1.8725351413895197e-07\n",
      "23 9.362675712498714e-08\n",
      "24 4.681337850698242e-08\n",
      "25 2.340668925349121e-08\n",
      "26 1.1703344626745604e-08\n",
      "27 5.851672368883953e-09\n",
      "28 2.925836239953128e-09\n",
      "29 1.462918119976564e-09\n",
      "30 7.314590044771307e-10\n",
      "31 3.6572944672741414e-10\n",
      "32 1.8286483438600953e-10\n",
      "33 9.143241719300477e-11\n"
     ]
    },
    {
     "data": {
      "text/plain": [
       "0.7390851332909909"
      ]
     },
     "execution_count": 102,
     "metadata": {},
     "output_type": "execute_result"
    }
   ],
   "source": [
    "bi(0,pi)"
   ]
  },
  {
   "cell_type": "markdown",
   "metadata": {},
   "source": [
    "## 6)"
   ]
  },
  {
   "cell_type": "code",
   "execution_count": 109,
   "metadata": {
    "collapsed": true
   },
   "outputs": [],
   "source": [
    "from math import sin\n",
    "\n",
    "def f(x):\n",
    "    return cos(x) - x\n",
    "    \n",
    "def df(x):\n",
    "    return -sin(x) - 1\n",
    "\n",
    "def newtonsFavWay(p, max, tol):\n",
    "    pn = 0\n",
    "    for i in range(max):\n",
    "        if df(p) == 0:\n",
    "            print('Divide by zero')\n",
    "        else:\n",
    "            pn = p - ( f(p) / df(p) )\n",
    "            if abs(pn - p) < tol:\n",
    "                return pn\n",
    "            else:\n",
    "                print(i, abs(pn - p))\n",
    "                p = pn"
   ]
  },
  {
   "cell_type": "code",
   "execution_count": 110,
   "metadata": {
    "collapsed": false
   },
   "outputs": [
    {
     "name": "stdout",
     "output_type": "stream",
     "text": [
      "0 0.2496361321597561\n",
      "1 0.011250976928882217\n",
      "2 2.7757526077643035e-05\n",
      "3 1.7012335984389892e-10\n"
     ]
    },
    {
     "data": {
      "text/plain": [
       "0.7390851332151607"
      ]
     },
     "execution_count": 110,
     "metadata": {},
     "output_type": "execute_result"
    }
   ],
   "source": [
    "newtonsFavWay(1, 100, 1e-10)"
   ]
  },
  {
   "cell_type": "markdown",
   "metadata": {},
   "source": [
    "## 7)"
   ]
  },
  {
   "cell_type": "code",
   "execution_count": 111,
   "metadata": {
    "collapsed": true
   },
   "outputs": [],
   "source": [
    "def f(x):\n",
    "    return 1 - x*x\n",
    "    \n",
    "def df(x):\n",
    "    return -2 * x\n",
    "\n",
    "def newtonsFavWay(p, max, tol):\n",
    "    pn = 0\n",
    "    for i in range(max):\n",
    "        \n",
    "        if df(p) == 0:\n",
    "            print('Divide by zero')\n",
    "        else:\n",
    "            pn = p - ( f(p) / df(p) )\n",
    "            print(i, abs(pn - p))\n",
    "            if abs(pn - p) < tol:\n",
    "                return pn\n",
    "            else:\n",
    "                p = pn"
   ]
  },
  {
   "cell_type": "code",
   "execution_count": 112,
   "metadata": {
    "collapsed": false
   },
   "outputs": [
    {
     "name": "stdout",
     "output_type": "stream",
     "text": [
      "0 1.05\n",
      "1 0.3801724137931035\n",
      "2 0.06754876490038608\n",
      "3 0.002276230696773629\n",
      "4 2.5906063811920177e-06\n",
      "5 3.355538069627073e-12\n"
     ]
    },
    {
     "data": {
      "text/plain": [
       "1.0"
      ]
     },
     "execution_count": 112,
     "metadata": {},
     "output_type": "execute_result"
    }
   ],
   "source": [
    "newtonsFavWay(2.5, 100, 1e-10)"
   ]
  },
  {
   "cell_type": "code",
   "execution_count": 113,
   "metadata": {
    "collapsed": false
   },
   "outputs": [
    {
     "name": "stdout",
     "output_type": "stream",
     "text": [
      "0 4.95\n",
      "1 2.425990099009901\n",
      "2 1.1214568889914178\n",
      "3 0.4185095446959888\n",
      "4 0.08078561620663183\n",
      "5 0.0032525615317913203\n",
      "6 5.289550279563571e-06\n",
      "7 1.3989698288696673e-11\n"
     ]
    },
    {
     "data": {
      "text/plain": [
       "-1.0"
      ]
     },
     "execution_count": 113,
     "metadata": {},
     "output_type": "execute_result"
    }
   ],
   "source": [
    "newtonsFavWay(-10, 100, 1e-10)"
   ]
  },
  {
   "cell_type": "code",
   "execution_count": 114,
   "metadata": {
    "collapsed": false
   },
   "outputs": [
    {
     "name": "stdout",
     "output_type": "stream",
     "text": [
      "Divide by zero\n",
      "Divide by zero\n",
      "Divide by zero\n",
      "Divide by zero\n",
      "Divide by zero\n",
      "Divide by zero\n",
      "Divide by zero\n",
      "Divide by zero\n",
      "Divide by zero\n",
      "Divide by zero\n",
      "Divide by zero\n",
      "Divide by zero\n",
      "Divide by zero\n",
      "Divide by zero\n",
      "Divide by zero\n",
      "Divide by zero\n",
      "Divide by zero\n",
      "Divide by zero\n",
      "Divide by zero\n",
      "Divide by zero\n",
      "Divide by zero\n",
      "Divide by zero\n",
      "Divide by zero\n",
      "Divide by zero\n",
      "Divide by zero\n",
      "Divide by zero\n",
      "Divide by zero\n",
      "Divide by zero\n",
      "Divide by zero\n",
      "Divide by zero\n",
      "Divide by zero\n",
      "Divide by zero\n",
      "Divide by zero\n",
      "Divide by zero\n",
      "Divide by zero\n",
      "Divide by zero\n",
      "Divide by zero\n",
      "Divide by zero\n",
      "Divide by zero\n",
      "Divide by zero\n",
      "Divide by zero\n",
      "Divide by zero\n",
      "Divide by zero\n",
      "Divide by zero\n",
      "Divide by zero\n",
      "Divide by zero\n",
      "Divide by zero\n",
      "Divide by zero\n",
      "Divide by zero\n",
      "Divide by zero\n",
      "Divide by zero\n",
      "Divide by zero\n",
      "Divide by zero\n",
      "Divide by zero\n",
      "Divide by zero\n",
      "Divide by zero\n",
      "Divide by zero\n",
      "Divide by zero\n",
      "Divide by zero\n",
      "Divide by zero\n",
      "Divide by zero\n",
      "Divide by zero\n",
      "Divide by zero\n",
      "Divide by zero\n",
      "Divide by zero\n",
      "Divide by zero\n",
      "Divide by zero\n",
      "Divide by zero\n",
      "Divide by zero\n",
      "Divide by zero\n",
      "Divide by zero\n",
      "Divide by zero\n",
      "Divide by zero\n",
      "Divide by zero\n",
      "Divide by zero\n",
      "Divide by zero\n",
      "Divide by zero\n",
      "Divide by zero\n",
      "Divide by zero\n",
      "Divide by zero\n",
      "Divide by zero\n",
      "Divide by zero\n",
      "Divide by zero\n",
      "Divide by zero\n",
      "Divide by zero\n",
      "Divide by zero\n",
      "Divide by zero\n",
      "Divide by zero\n",
      "Divide by zero\n",
      "Divide by zero\n",
      "Divide by zero\n",
      "Divide by zero\n",
      "Divide by zero\n",
      "Divide by zero\n",
      "Divide by zero\n",
      "Divide by zero\n",
      "Divide by zero\n",
      "Divide by zero\n",
      "Divide by zero\n",
      "Divide by zero\n"
     ]
    }
   ],
   "source": [
    "newtonsFavWay(0, 100, 1e-10)"
   ]
  },
  {
   "cell_type": "markdown",
   "metadata": {},
   "source": [
    "The p = 0 attempt did not work because at p = 0 the slope of the graph is zero. This means that the derivative will be zero and will create a divide by zero error."
   ]
  },
  {
   "cell_type": "markdown",
   "metadata": {},
   "source": [
    "## 8)"
   ]
  },
  {
   "cell_type": "code",
   "execution_count": 115,
   "metadata": {
    "collapsed": true
   },
   "outputs": [],
   "source": [
    "def f(x):\n",
    "    return 1 - x*x\n",
    "\n",
    "def gimmeASecant(p1, p2, max):\n",
    "    for i in range(max):\n",
    "        if f(p2) - f(p1) == 0:\n",
    "            print('Divide by zero')\n",
    "        else:\n",
    "            pn = p2 - ( f(p2) * (p1 - p2) / (f(p1) - f(p2)) )\n",
    "            if abs(pn - p1) < 1e-10:\n",
    "                return pn\n",
    "            else:\n",
    "                print(i, abs(pn - p1))\n",
    "                p2 = p1\n",
    "                p1 = pn"
   ]
  },
  {
   "cell_type": "code",
   "execution_count": 116,
   "metadata": {
    "collapsed": false
   },
   "outputs": [
    {
     "name": "stdout",
     "output_type": "stream",
     "text": [
      "0 2.1\n",
      "1 0.2896551724137929\n",
      "2 0.4812309035355742\n",
      "3 0.19939047477634664\n",
      "4 0.02623075873994285\n",
      "5 0.002306550924469297\n",
      "6 3.294829309619107e-05\n",
      "7 3.7455047174894673e-08\n"
     ]
    },
    {
     "data": {
      "text/plain": [
       "1.0"
      ]
     },
     "execution_count": 116,
     "metadata": {},
     "output_type": "execute_result"
    }
   ],
   "source": [
    "gimmeASecant(2.5,0,100)"
   ]
  },
  {
   "cell_type": "markdown",
   "metadata": {},
   "source": [
    "## 9)"
   ]
  },
  {
   "cell_type": "code",
   "execution_count": 117,
   "metadata": {
    "collapsed": true
   },
   "outputs": [],
   "source": [
    "def f(x):\n",
    "    return 1 - x*x\n",
    "\n",
    "def false_p(p1, p2, max):\n",
    "    if f(p1) * f(p2) < 0:\n",
    "        for i in range(max):\n",
    "            if f(p2) - f(p1) == 0:\n",
    "                print('Divide by zero')\n",
    "            else:\n",
    "                pn = p2 - ( f(p2) * (p1 - p2) / (f(p1) - f(p2)) )\n",
    "                print(i, abs(pn - p2))\n",
    "                if abs(pn - p1) < 1e-10:\n",
    "                    return pn\n",
    "                else:\n",
    "                    if f(pn) * f(p2) > 0:\n",
    "                        p1 = pn\n",
    "                    elif f(pn) * f(p2) < 0:\n",
    "                        p2 = p1\n",
    "                        p1 = pn  \n",
    "                    else:\n",
    "                        print('f(pn) * f(p2) == 0?')\n",
    "    else:\n",
    "        print('Initial guesses do not bracket root.')"
   ]
  },
  {
   "cell_type": "code",
   "execution_count": 118,
   "metadata": {
    "collapsed": false
   },
   "outputs": [
    {
     "name": "stdout",
     "output_type": "stream",
     "text": [
      "0 1.5\n",
      "1 2.0\n",
      "2 0.30000000000000004\n",
      "3 0.5769230769230769\n",
      "4 0.19180327868852454\n",
      "5 0.20091491308325704\n",
      "6 0.008192957965710512\n",
      "7 0.008196736798524173\n",
      "8 3.763345735818824e-06\n",
      "9 3.763345764906667e-06\n"
     ]
    },
    {
     "data": {
      "text/plain": [
       "1.0"
      ]
     },
     "execution_count": 118,
     "metadata": {},
     "output_type": "execute_result"
    }
   ],
   "source": [
    "false_p(0, 2, 100)"
   ]
  },
  {
   "cell_type": "markdown",
   "metadata": {},
   "source": [
    "Iterations necessary to reach a tolerace of 1e-10:\n",
    "\n",
    "Bisection     : 33\n",
    "\n",
    "Newton        :  4\n",
    "\n",
    "Secant        :  8\n",
    "\n",
    "False Position: 10"
   ]
  },
  {
   "cell_type": "code",
   "execution_count": null,
   "metadata": {
    "collapsed": true
   },
   "outputs": [],
   "source": []
  }
 ],
 "metadata": {
  "kernelspec": {
   "display_name": "Python [conda root]",
   "language": "python",
   "name": "conda-root-py"
  },
  "language_info": {
   "codemirror_mode": {
    "name": "ipython",
    "version": 3
   },
   "file_extension": ".py",
   "mimetype": "text/x-python",
   "name": "python",
   "nbconvert_exporter": "python",
   "pygments_lexer": "ipython3",
   "version": "3.5.2"
  }
 },
 "nbformat": 4,
 "nbformat_minor": 1
}
