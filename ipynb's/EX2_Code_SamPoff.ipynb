{
 "cells": [
  {
   "cell_type": "code",
   "execution_count": 1,
   "metadata": {
    "collapsed": false
   },
   "outputs": [
    {
     "name": "stdout",
     "output_type": "stream",
     "text": [
      "\n",
      "Coefficients: \n",
      "1.00513714286\n",
      "0.864182857143\n",
      "0.843657142857\n",
      "\n",
      "Error:\n",
      " 0.0165569493394\n"
     ]
    },
    {
     "data": {
      "text/plain": [
       "<matplotlib.collections.PathCollection at 0x1bd140eecf8>"
      ]
     },
     "execution_count": 1,
     "metadata": {},
     "output_type": "execute_result"
    },
    {
     "data": {
      "image/png": "[encoded data removed]",
      "text/plain": [
       "<matplotlib.figure.Figure at 0x1bd13ee4e80>"
      ]
     },
     "metadata": {},
     "output_type": "display_data"
    }
   ],
   "source": [
    "import matplotlib.pyplot as plt\n",
    "import numpy as np\n",
    "%matplotlib inline\n",
    "import math\n",
    "\n",
    "\"\"\"\n",
    "This function performs the algorithm in the assignment.\n",
    "\"\"\"\n",
    "def SVD_least_squares(x,y,degree):\n",
    "\n",
    "    # Empty array with number of coefficients we want.\n",
    "    coef = np.zeros(degree+1)\n",
    "\n",
    "    # Number of points we have, 0-(n-1).\n",
    "    n = len(x)\n",
    "\n",
    "    # Empty 'A' matrix of the correct size.\n",
    "    A = np.zeros( ( n, len(coef) ) )\n",
    "\n",
    "    # Fill out 'A' matrix.\n",
    "    A[:,0] = 1\n",
    "    # Fill out 'A' matrix.\n",
    "    A[:,0] = 1\n",
    "    for i in range( len(A) ):\n",
    "        for j in range( 1, len(A[0]) ):\n",
    "            A[i,j] = x[i]**j\n",
    "\n",
    "    # Create our SVD maticies.\n",
    "    U, s, V = np.linalg.svd(A)\n",
    "\n",
    "    # Create C\n",
    "    c = np.dot(U.T,y)\n",
    "\n",
    "    # Create Z\n",
    "    z = [ c[i] / s[i] for i in range( len(s) ) ]\n",
    "\n",
    "    # Find coefficients.\n",
    "    coef = np.dot(z,V)\n",
    "\n",
    "    # Define the polynomial and return a solution for a \n",
    "    # given 'x' value.\n",
    "    def f(x):\n",
    "        sol = sum( coef[i] * x**i for i in range( degree + 1 ) )\n",
    "        return sol\n",
    "    \n",
    "    # Create a vector of P(x) solutions.\n",
    "    P = [ f(z) for z in x ]\n",
    "\n",
    "    # Find the error.\n",
    "    #E = sum( abs( y[i] - f(x[i]) ) for i in range( len(x) ) )\n",
    "    E = np.linalg.norm( P - y, 2 )\n",
    "\n",
    "    return coef, E\n",
    "    \n",
    "\"\"\"\n",
    "Starting x vector, y vector, and desired degree.\n",
    "\"\"\"\n",
    "# x values\n",
    "x = np.array([ 0.0,   0.25,   0.50,   0.75,   1.00])\n",
    "# y values\n",
    "y = np.array([1.00, 1.2840, 1.6487, 2.1170, 2.7183])\n",
    "# Degrees we want\n",
    "degree = 2\n",
    "\n",
    "\"\"\"\n",
    "Get coefficients and error, and print the results.\n",
    "\"\"\"\n",
    "# Solve\n",
    "coef, error = SVD_least_squares(x, y, degree) \n",
    "\n",
    "# Print results\n",
    "print('\\nCoefficients: ')\n",
    "for i in range( len(coef) ):\n",
    "    print(coef[i])\n",
    "print('\\nError:\\n', error)\n",
    "\n",
    "\"\"\"\n",
    "Plot the approximating polynomial and scatter plot of real points.\n",
    "\"\"\"\n",
    "# Define the function with the coefficients found above.\n",
    "def f(x):\n",
    "    sol = sum( coef[i] * x**i for i in range( degree + 1 ) )\n",
    "    return sol\n",
    "\n",
    "# Plot the polynomial in red.\n",
    "s = np.arange(-0.5, 1.5, 0.01)\n",
    "plt.plot(s,  f(s), 'r')\n",
    "\n",
    "# Plot the true x and y values in blue.\n",
    "plt.scatter(x,y)"
   ]
  },
  {
   "cell_type": "code",
   "execution_count": null,
   "metadata": {
    "collapsed": true
   },
   "outputs": [],
   "source": []
  }
 ],
 "metadata": {
  "anaconda-cloud": {},
  "kernelspec": {
   "display_name": "Python [default]",
   "language": "python",
   "name": "python3"
  },
  "language_info": {
   "codemirror_mode": {
    "name": "ipython",
    "version": 3
   },
   "file_extension": ".py",
   "mimetype": "text/x-python",
   "name": "python",
   "nbconvert_exporter": "python",
   "pygments_lexer": "ipython3",
   "version": "3.5.2"
  }
 },
 "nbformat": 4,
 "nbformat_minor": 2
}
