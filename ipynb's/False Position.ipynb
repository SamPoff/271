{
 "cells": [
  {
   "cell_type": "markdown",
   "metadata": {},
   "source": [
    "## 9"
   ]
  },
  {
   "cell_type": "code",
   "execution_count": 42,
   "metadata": {
    "collapsed": false
   },
   "outputs": [],
   "source": [
    "def f(x):\n",
    "    return 1 - x*x\n",
    "\n",
    "def false_p(p1, p2, max):\n",
    "    if f(p1) * f(p2) < 0:\n",
    "        for i in range(max):\n",
    "            if f(p2) - f(p1) == 0:\n",
    "                print('Divide by zero')\n",
    "            else:\n",
    "                pn = p2 - ( f(p2) * (p1 - p2) / (f(p1) - f(p2)) )\n",
    "                if abs(pn - p2) < 1e-5:\n",
    "                    return pn\n",
    "                else:\n",
    "                    print(i, p2, p1, pn)\n",
    "                    if f(pn) * f(p2) > 0:\n",
    "                        p1 = pn\n",
    "                    elif f(pn) * f(p2) < 0:\n",
    "                        p2 = p1\n",
    "                        p1 = pn  \n",
    "                    else:\n",
    "                        print('you played yourself')\n",
    "    else:\n",
    "        print('Initial guesses do not bracket root.')"
   ]
  },
  {
   "cell_type": "code",
   "execution_count": 43,
   "metadata": {
    "collapsed": false
   },
   "outputs": [
    {
     "name": "stdout",
     "output_type": "stream",
     "text": [
      "0 2 0 0.5\n",
      "1 0 0.5 2.0\n",
      "2 0.5 2.0 0.8\n",
      "3 0.5 0.8 1.0769230769230769\n",
      "4 0.8 1.0769230769230769 0.9918032786885246\n",
      "5 0.8 0.9918032786885246 1.000914913083257\n",
      "6 0.9918032786885246 1.000914913083257 0.9999962366542351\n",
      "7 0.9918032786885246 0.9999962366542351 1.0000000154870488\n"
     ]
    },
    {
     "data": {
      "text/plain": [
       "0.9999999999999709"
      ]
     },
     "execution_count": 43,
     "metadata": {},
     "output_type": "execute_result"
    }
   ],
   "source": [
    "false_p(0, 2, 100)"
   ]
  },
  {
   "cell_type": "markdown",
   "metadata": {},
   "source": [
    "## 9)"
   ]
  },
  {
   "cell_type": "code",
   "execution_count": null,
   "metadata": {
    "collapsed": true
   },
   "outputs": [],
   "source": []
  }
 ],
 "metadata": {
  "anaconda-cloud": {},
  "kernelspec": {
   "display_name": "Python [conda root]",
   "language": "python",
   "name": "conda-root-py"
  },
  "language_info": {
   "codemirror_mode": {
    "name": "ipython",
    "version": 3
   },
   "file_extension": ".py",
   "mimetype": "text/x-python",
   "name": "python",
   "nbconvert_exporter": "python",
   "pygments_lexer": "ipython3",
   "version": "3.5.2"
  }
 },
 "nbformat": 4,
 "nbformat_minor": 1
}
