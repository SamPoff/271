{
 "cells": [
  {
   "cell_type": "markdown",
   "metadata": {},
   "source": [
    "## HW 5"
   ]
  },
  {
   "cell_type": "code",
   "execution_count": 1,
   "metadata": {
    "collapsed": true
   },
   "outputs": [],
   "source": [
    "import numpy as np\n",
    "import math"
   ]
  },
  {
   "cell_type": "code",
   "execution_count": 2,
   "metadata": {
    "collapsed": false
   },
   "outputs": [
    {
     "name": "stdout",
     "output_type": "stream",
     "text": [
      "0.329545454545\n"
     ]
    }
   ],
   "source": [
    "\"\"\"\n",
    "P1\n",
    "\"\"\"\n",
    "\n",
    "\"\"\"\n",
    "x = np.array([-1,  0, 1,  2])\n",
    "y = np.array([ 3, -4, 5, -6])\n",
    "\"\"\"\n",
    "\n",
    "x = np.array(  [2,   2.75,   4])\n",
    "y = np.array([1/2, 1/2.75, 1/4])\n",
    "\n",
    "\n",
    "def LIP(x, y, xApp):\n",
    "    \n",
    "    # Get n and fill l with ones.\n",
    "    n = len(x)\n",
    "    l = np.ones(n)\n",
    "    \n",
    "    # i is the l number we are on, j is the x\n",
    "    for i in range(n):\n",
    "        for j in range(n):\n",
    "            if i != j:\n",
    "                l[i] *= (xApp - x[j]) / (x[i] - x[j])\n",
    "         \n",
    "    # Set yApp to zero and sum l and y parts.\n",
    "    yApp = 0\n",
    "    for i in range(n):\n",
    "        yApp += l[i] * y[i]\n",
    "    \n",
    "    return yApp\n",
    "    \n",
    "print(LIP(x, y, 3))"
   ]
  },
  {
   "cell_type": "code",
   "execution_count": 3,
   "metadata": {
    "collapsed": false
   },
   "outputs": [
    {
     "name": "stdout",
     "output_type": "stream",
     "text": [
      "0.329545454545\n"
     ]
    }
   ],
   "source": [
    "\"\"\"\n",
    "P2\n",
    "\"\"\"\n",
    "\n",
    "\"\"\"\n",
    "x = np.array([-1,  0, 1,  2])\n",
    "y = np.array([ 3, -4, 5, -6])\n",
    "\"\"\"\n",
    "\n",
    "x = np.array(  [2,   2.75,   4])\n",
    "y = np.array([1/2, 1/2.75, 1/4])\n",
    "\n",
    "\n",
    "def devidedDif(x, y, xApp):\n",
    "    \n",
    "    n = len(x)\n",
    "    yApp = 0\n",
    "    a = np.zeros([n,n])\n",
    "    a[:,0] = y\n",
    "    \n",
    "    for j in range(1,n):\n",
    "        for i in range(j,n):\n",
    "            a[i,j] = (a[i,j-1] - a[i-1,j-1]) / (x[i] - x[i-j])\n",
    "        \n",
    "    for i in range(n):\n",
    "        hold = 1.0\n",
    "        for j in range(i):\n",
    "            hold *= xApp - x[j]\n",
    "\n",
    "        yApp += a[i,i] * hold\n",
    "        \n",
    "    return yApp\n",
    "\n",
    "print(devidedDif(x,y,3))"
   ]
  },
  {
   "cell_type": "code",
   "execution_count": 4,
   "metadata": {
    "collapsed": false
   },
   "outputs": [
    {
     "name": "stdout",
     "output_type": "stream",
     "text": [
      "1.94727272727\n"
     ]
    }
   ],
   "source": [
    "\"\"\"\n",
    "P3\n",
    "\"\"\"\n",
    "\n",
    "def leastSquares(x, y, xApp):\n",
    "    \n",
    "    xSq = np.zeros(len(x))\n",
    "    for i in range(len(x)):\n",
    "        xSq[i] = math.pow(x[i],2)\n",
    "    \n",
    "    # Define top and bottom sum / product for beto zero.\n",
    "    b0Top    = ( sum(xSq) * sum(y) ) - ( sum(x*y) * sum(x) )\n",
    "    bottom = ( len(x) * sum(xSq) - math.pow(sum(x),2) )\n",
    "    b0       =   b0Top / bottom\n",
    "    \n",
    "    # Define top sum / product for beta one\n",
    "    b1Top    = ( len(x) * sum(x*y) - (sum(x) * sum(y)) )\n",
    "    b1       =   b1Top / bottom\n",
    "    \n",
    "    # Solve for y-approximation\n",
    "    yApp = b0 + b1 * xApp\n",
    "    \n",
    "    return yApp\n",
    "    \n",
    "x = np.array([  1,   2,   3, 4, 5,   6,    7,    8,  9,   10]) \n",
    "y = np.array([1.3, 3.5, 4.2, 5, 7, 8.8, 10.1, 12.5, 13, 15.6])    \n",
    "xApp = 1.5\n",
    "print(leastSquares(x,y,xApp))"
   ]
  },
  {
   "cell_type": "code",
   "execution_count": 5,
   "metadata": {
    "collapsed": false
   },
   "outputs": [
    {
     "data": {
      "text/plain": [
       "3.1023011015911064"
      ]
     },
     "execution_count": 5,
     "metadata": {},
     "output_type": "execute_result"
    }
   ],
   "source": [
    "\"\"\"\n",
    "P4\n",
    "\"\"\"\n",
    "\n",
    "act = np.array([28, 25, 28, 27, 28, 33, 28, 29, 23, 27, 29, 28, 27, 29, 21, 28, 28, 26, 30, 25])\n",
    "gpa = np.array([3.84, 3.21, 3.23, 3.63, 3.75, 3.20, 3.41, 3.38, 3.53, 2.03, 3.75, 3.65, 3.87, 3.75, 1.66, 3.12, 2.96, 2.92, 3.10, 2.81])\n",
    "leastSquares(act, gpa, 26)"
   ]
  },
  {
   "cell_type": "code",
   "execution_count": 6,
   "metadata": {
    "collapsed": true
   },
   "outputs": [],
   "source": [
    "\"\"\"\n",
    "P5\n",
    "\"\"\"\n",
    "\n",
    "from sklearn.datasets import load_digits\n",
    "from sklearn.preprocessing import normalize\n",
    "from sklearn.cross_validation import train_test_split\n",
    "import matplotlib.pyplot as plt\n",
    "import numpy as np\n",
    "import math\n",
    "%matplotlib inline"
   ]
  },
  {
   "cell_type": "code",
   "execution_count": 7,
   "metadata": {
    "collapsed": true
   },
   "outputs": [],
   "source": [
    "x = load_digits().data\n",
    "y = load_digits().target\n",
    "x = normalize(x, axis = 0)\n",
    "ind = np.where(y == 4)[0]\n",
    "y = (y == 4) * 1"
   ]
  },
  {
   "cell_type": "code",
   "execution_count": 8,
   "metadata": {
    "collapsed": true
   },
   "outputs": [],
   "source": [
    "X_train, X_test, Y_train, Y_test = train_test_split(x, y)"
   ]
  },
  {
   "cell_type": "code",
   "execution_count": 9,
   "metadata": {
    "collapsed": false
   },
   "outputs": [
    {
     "data": {
      "text/plain": [
       "<matplotlib.image.AxesImage at 0x1ec4dab75f8>"
      ]
     },
     "execution_count": 9,
     "metadata": {},
     "output_type": "execute_result"
    },
    {
     "data": {
      "image/png": "[encoded data removed]",
      "text/plain": [
       "<matplotlib.figure.Figure at 0x1ec4b402668>"
      ]
     },
     "metadata": {},
     "output_type": "display_data"
    }
   ],
   "source": [
    "plt.imshow(X_train[0].reshape(8, 8))"
   ]
  },
  {
   "cell_type": "code",
   "execution_count": 10,
   "metadata": {
    "collapsed": true
   },
   "outputs": [],
   "source": [
    "\n",
    "def E(x, y, a, b):\n",
    "    \n",
    "    p = len(x[0])\n",
    "    n = len(x)\n",
    "    E = 0\n",
    "    \n",
    "    for i in range(n):\n",
    "        hold = 0\n",
    "        ySombrero = a\n",
    "        for j in range(p):\n",
    "            ySombrero += b[j] * x[i,j]\n",
    "            \n",
    "        hold = y[i] - ySombrero\n",
    "        E += math.pow(hold, 2)\n",
    "    \n",
    "    return E\n",
    "        \n",
    "    \n",
    "def grad_alpha(x, y, a, b):\n",
    "\n",
    "    grad = 0\n",
    "    p = len(x[0])\n",
    "    n = len(x)\n",
    "    holdOut = 0\n",
    "    \n",
    "    for i in range(n):\n",
    "        holdIn = 0\n",
    "        for j in range(p):\n",
    "            holdIn += b[j] * x[i,j]\n",
    "        holdOut += y[i] - (a + holdIn)\n",
    "    \n",
    "    return holdOut * -2.0\n",
    "\n",
    "\n",
    "def grad_beta(x, y, a, b, k):\n",
    "\n",
    "    grad = 0\n",
    "    p = len(x[0])\n",
    "    n = len(x)\n",
    "    holdOut = 0\n",
    "    \n",
    "    for i in range(n):\n",
    "        holdIn = 0\n",
    "        for j in range(p):\n",
    "            holdIn += b[j] * x[i,j]\n",
    "        holdOut += (y[i] - (a + holdIn)) * x[i,k]\n",
    "    \n",
    "    return holdOut * -2.0\n",
    "        \n",
    "\n",
    "def lin_reg(x, y):\n",
    "    \n",
    "    p = len(x[0])\n",
    "    aOld = 0\n",
    "    aNew = 0\n",
    "    bOld = np.zeros(p)\n",
    "    bNew = np.zeros(p)\n",
    "    gamma = 0.0001\n",
    "    max_iterations = 2000\n",
    "    \n",
    "    for i in range(max_iterations):\n",
    "        \n",
    "        # Update E\n",
    "        Eold = E(x, y, aOld, bOld)\n",
    "        # Update a\n",
    "        aNew = aOld - (gamma * grad_alpha(x, y, aOld, bOld))\n",
    "        \n",
    "        for j in range(p):\n",
    "            \n",
    "            # Update beta\n",
    "            bNew[j] = bOld[j] - (gamma * grad_beta(x, y, aOld, bOld, j))\n",
    "            \n",
    "        # Update E\n",
    "        Enew = E(x, y, aNew, bNew)\n",
    "        \n",
    "        # Check if tolerance has been met.\n",
    "        if abs(Enew - Eold) < 1e-5:\n",
    "            break\n",
    "        if i % 200 == 0:\n",
    "            print(i, ' ', Enew)\n",
    "            \n",
    "        aOld = aNew\n",
    "        bOld = bNew\n",
    "    \n",
    "    return aNew, bNew"
   ]
  },
  {
   "cell_type": "code",
   "execution_count": 11,
   "metadata": {
    "collapsed": false
   },
   "outputs": [
    {
     "name": "stdout",
     "output_type": "stream",
     "text": [
      "0   125.8342967556641\n",
      "200   108.5526630461156\n",
      "400   99.92033182742405\n",
      "600   92.74701768230828\n",
      "800   86.75004132302998\n",
      "1000   81.70469958420838\n",
      "1200   77.43201509141667\n",
      "1400   73.78912142084293\n",
      "1600   70.66171000562845\n",
      "1800   67.95809098171767\n"
     ]
    }
   ],
   "source": [
    "a,b = lin_reg(X_train, Y_train)"
   ]
  },
  {
   "cell_type": "code",
   "execution_count": 12,
   "metadata": {
    "collapsed": false
   },
   "outputs": [
    {
     "name": "stdout",
     "output_type": "stream",
     "text": [
      "97.1111111111\n"
     ]
    }
   ],
   "source": [
    "\"\"\"\n",
    "P6\n",
    "\"\"\"\n",
    "\n",
    "yiHat = np.zeros(len(Y_test))\n",
    "\n",
    "for i in range(len(Y_test)):\n",
    "    yiHat[i] = a + np.dot(b, X_test[i,:])\n",
    "    \n",
    "for i in range(len(Y_test)):\n",
    "    if yiHat[i] < 0.3:\n",
    "        yiHat[i] = 0\n",
    "    else:\n",
    "        yiHat[i] = 1\n",
    "    \n",
    "Error = 0\n",
    "\n",
    "for i in range(len(Y_test)):\n",
    "    Error += abs(yiHat[i] - Y_test[i])\n",
    "    \n",
    "percentCor = (1 - Error / len(Y_test)) * 100\n",
    "\n",
    "print(percentCor)"
   ]
  }
 ],
 "metadata": {
  "anaconda-cloud": {},
  "kernelspec": {
   "display_name": "Python [conda root]",
   "language": "python",
   "name": "conda-root-py"
  },
  "language_info": {
   "codemirror_mode": {
    "name": "ipython",
    "version": 3
   },
   "file_extension": ".py",
   "mimetype": "text/x-python",
   "name": "python",
   "nbconvert_exporter": "python",
   "pygments_lexer": "ipython3",
   "version": "3.5.2"
  }
 },
 "nbformat": 4,
 "nbformat_minor": 1
}
