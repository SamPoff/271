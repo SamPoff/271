{
 "cells": [
  {
   "cell_type": "markdown",
   "metadata": {
    "collapsed": true
   },
   "source": [
    "## P1"
   ]
  },
  {
   "cell_type": "code",
   "execution_count": 34,
   "metadata": {
    "collapsed": false
   },
   "outputs": [],
   "source": [
    "import numpy as np\n",
    "import math \n",
    "\n",
    "def GaussianElimination(A):\n",
    "\n",
    "    print('Original\\n', A, '\\n')\n",
    "\n",
    "    numrows = len(A)    # Number of rows\n",
    "    numcols = len(A[0]) # Number of columns\n",
    "\n",
    "    # Gaussian Elimination\n",
    "    for col in range(numcols - 1):           \n",
    "        for row in range(col + 1, numrows):\n",
    "            # print(A, '\\n')\n",
    "            A[row] = A[row] - (A[row, col]/A[col, col]) * A[col]\n",
    " \n",
    "    print('Upper Triangular', '\\n', A, '\\n')\n",
    "\n",
    "    # Make solution array\n",
    "    x = np.array([0.0,0.0,0.0,0.0])   \n",
    "        \n",
    "    # Backsub\n",
    "    for i in range(numrows - 1, -1, -1): \n",
    "        hold = 0.0\n",
    "        for j in range(i + 1, numrows): \n",
    "            hold = hold + A[i,j] * x[j]\n",
    "        x[i] = (A[i, numcols - 1] - hold) / A[i, i]\n",
    "        \n",
    "    return x"
   ]
  },
  {
   "cell_type": "code",
   "execution_count": 35,
   "metadata": {
    "collapsed": true
   },
   "outputs": [],
   "source": [
    "A = np.array([[6,5,6,5,7], \n",
    "              [5,6,7,0,2],\n",
    "              [3,0,0,1,6], \n",
    "              [6,7,8,2,1]])"
   ]
  },
  {
   "cell_type": "code",
   "execution_count": 36,
   "metadata": {
    "collapsed": false
   },
   "outputs": [
    {
     "name": "stdout",
     "output_type": "stream",
     "text": [
      "Original\n",
      " [[6 5 6 5 7]\n",
      " [5 6 7 0 2]\n",
      " [3 0 0 1 6]\n",
      " [6 7 8 2 1]] \n",
      "\n",
      "Upper Triangular \n",
      " [[  6   5   6   5   7]\n",
      " [  0   1   2  -4  -3]\n",
      " [  0   0   1  -9  -4]\n",
      " [  0   0   0 -13  -8]] \n",
      "\n"
     ]
    },
    {
     "data": {
      "text/plain": [
       "array([ 2.12820513, -3.61538462,  1.53846154,  0.61538462])"
      ]
     },
     "execution_count": 36,
     "metadata": {},
     "output_type": "execute_result"
    }
   ],
   "source": [
    "GaussianElimination(A)"
   ]
  },
  {
   "cell_type": "code",
   "execution_count": 37,
   "metadata": {
    "collapsed": false
   },
   "outputs": [
    {
     "name": "stdout",
     "output_type": "stream",
     "text": [
      "Original\n",
      " [[  3.14159265  -2.71828183   1.41421356  -1.73205081   3.31662479]\n",
      " [  9.8696044    2.71828183  -7.3890561    0.42857143   0.        ]\n",
      " [  2.23606798  -2.44948974   1.          -1.41421356   3.14159265]\n",
      " [ 31.00627668   7.3890561   -2.64575131   0.11111111   1.41421356]] \n",
      "\n",
      "Upper Triangular \n",
      " [[ 31.00627668   7.3890561   -2.64575131   0.11111111   1.41421356]\n",
      " [  0.          -3.46694974   1.68228422  -1.74330872   3.173335  ]\n",
      " [  0.           0.          -6.36915932   0.20902864  -0.1149054 ]\n",
      " [  0.           0.           0.           0.06900167   0.3144408 ]] \n",
      "\n",
      "\n",
      "X[ 0 ] = 0.788393791119\n",
      "\n",
      "X[ 1 ] = -3.12541369935\n",
      "\n",
      "X[ 2 ] = 0.167596598918\n",
      "\n",
      "X[ 3 ] = 4.55700258101\n"
     ]
    }
   ],
   "source": [
    "import numpy as np\n",
    "import math \n",
    "\n",
    "A = np.array([[math.pi             , -math.exp(1) , math.sqrt(2)  , -math.sqrt(3) , math.sqrt(11)], \n",
    "              [math.pow(math.pi, 2), math.exp(1)  , -math.exp(2)  , (3.0/7.0)     , 0            ],\n",
    "              [math.sqrt(5)        , -math.sqrt(6), 1             , -math.sqrt(2) , math.pi      ], \n",
    "              [math.pow(math.pi, 3), math.exp(2)  , -math.sqrt(7) , (1.0/9.0)     , math.sqrt(2)]])\n",
    "\n",
    "print('Original\\n', A, '\\n')\n",
    "\n",
    "numrows = 4\n",
    "numcols = 5\n",
    "\n",
    "for col in range(numcols - 1):\n",
    "    \n",
    "    # Pivoting\n",
    "    maxRow = np.argmax(abs(A[col:numrows, col]))\n",
    "    temp = A[maxRow + col].copy()\n",
    "    A[maxRow + col] = A[col]\n",
    "    A[col] = temp\n",
    "    \n",
    "    # Gaussian Elimination\n",
    "    for row in range(col + 1, numrows):\n",
    "        # print(A, '\\n')\n",
    "        A[row] = A[row] - (A[row, col]/A[col, col]) * A[col]\n",
    "        \n",
    "print('Upper Triangular', '\\n', A, '\\n')\n",
    " \n",
    "# Make solution array\n",
    "x = np.array([0.0,0.0,0.0,0.0])\n",
    "        \n",
    "# Backsub\n",
    "for i in range(numrows - 1, -1, -1):\n",
    "    hold = 0.0\n",
    "    for j in range(i + 1, numrows): \n",
    "        hold = hold + A[i,j] * x[j]\n",
    "    x[i] = (A[i, numcols - 1] - hold) / A[i, i]\n",
    "    \n",
    "for z in range(4):\n",
    "    print('\\nX[',z,'] =', x[z])"
   ]
  },
  {
   "cell_type": "code",
   "execution_count": null,
   "metadata": {
    "collapsed": true
   },
   "outputs": [],
   "source": []
  }
 ],
 "metadata": {
  "anaconda-cloud": {},
  "kernelspec": {
   "display_name": "Python [conda root]",
   "language": "python",
   "name": "conda-root-py"
  },
  "language_info": {
   "codemirror_mode": {
    "name": "ipython",
    "version": 3
   },
   "file_extension": ".py",
   "mimetype": "text/x-python",
   "name": "python",
   "nbconvert_exporter": "python",
   "pygments_lexer": "ipython3",
   "version": "3.5.2"
  }
 },
 "nbformat": 4,
 "nbformat_minor": 1
}
