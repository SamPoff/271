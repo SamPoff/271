{
 "cells": [
  {
   "cell_type": "markdown",
   "metadata": {},
   "source": [
    "# HW6"
   ]
  },
  {
   "cell_type": "code",
   "execution_count": 1,
   "metadata": {
    "collapsed": true
   },
   "outputs": [],
   "source": [
    "import numpy as np\n",
    "import math\n",
    "from math import pi, sin, cos\n",
    "from scipy.integrate import quad\n",
    "\n",
    "def GaussianElimination(A):\n",
    "\n",
    "    numrows = len(A)    # Number of rows\n",
    "    numcols = len(A[0]) # Number of columns\n",
    "\n",
    "    # Gaussian Elimination\n",
    "    for col in range(numcols - 1):           \n",
    "        for row in range(col + 1, numrows):\n",
    "            # print(A, '\\n')\n",
    "            A[row] = A[row] - (A[row, col]/A[col, col]) * A[col]\n",
    "\n",
    "    # Make solution array\n",
    "    x = np.array([0.0,0.0,0.0,0.0])   \n",
    "        \n",
    "    # Backsub\n",
    "    for i in range(numrows - 1, -1, -1): \n",
    "        hold = 0.0\n",
    "        for j in range(i + 1, numrows): \n",
    "            hold = hold + A[i,j] * x[j]\n",
    "        x[i] = (A[i, numcols - 1] - hold) / A[i, i]\n",
    "        \n",
    "    return x"
   ]
  },
  {
   "cell_type": "code",
   "execution_count": 2,
   "metadata": {
    "collapsed": false
   },
   "outputs": [
    {
     "name": "stdout",
     "output_type": "stream",
     "text": [
      "2.236424\n"
     ]
    }
   ],
   "source": [
    "\"\"\"\n",
    "#P1\n",
    "\"\"\"\n",
    "\n",
    "x = np.array([0.0,   0.25,    0.5,   0.75,    1.0])\n",
    "y = np.array([1.0, 1.2840, 1.6487, 2.1170, 2.7183])\n",
    "\n",
    "def discreetLSP(x, y, degree, xApp):\n",
    "    \n",
    "    m = degree + 1\n",
    "    b       = np.zeros([m,m])\n",
    "    bCoef   = np.zeros(m)\n",
    "    equals  = np.zeros(m)\n",
    "    xExpSum = np.zeros(2 * m)\n",
    "    xExp    = np.zeros([2 * degree + 1, 2 * degree + 1])\n",
    "    \n",
    "    # Find x's to exponents\n",
    "    for i in range(len(xExp)):\n",
    "        for j in range(len(xExp)):\n",
    "            xExp[i,j] = math.pow(x[j],i)\n",
    "    \n",
    "    # Find sums of x's to exponents\n",
    "    for i in range(2 * degree + 1):\n",
    "        xExpSum[i] = sum(xExp[i,:])\n",
    "        \n",
    "    # Find sums of y * x to exponent\n",
    "    yMult = xExp[0:m,:]\n",
    "    for i in range(degree + 1):\n",
    "        for j in range(2 * degree + 1):\n",
    "            yMult[i,j] = y[j] * yMult[i,j]\n",
    "    \n",
    "    # fill b matrix\n",
    "    for i in range(m):\n",
    "        for j in range(m):\n",
    "            b[i,j] = xExpSum[i+j]\n",
    "\n",
    "    # fill right side\n",
    "    for i in range(m):\n",
    "        equals[i] = sum(yMult[i,:])\n",
    "    \n",
    "    # concatenate array / matrix\n",
    "    A = np.array(np.zeros([m,degree+2]))\n",
    "    for i in range(m):\n",
    "        for j in range(degree+2):\n",
    "            if j < m:\n",
    "                A[i,j] = b[i,j]\n",
    "            else:\n",
    "                A[i,j] = equals[i]\n",
    "    \n",
    "    # use gaussian elimination to solve\n",
    "    bCoef = GaussianElimination(A)\n",
    "    \n",
    "    # use bCoefs to solve\n",
    "    yApp = 0\n",
    "    for i in range(m):\n",
    "        yApp += bCoef[i] * math.pow(xApp,i)\n",
    "    \n",
    "    return yApp\n",
    "\n",
    "print(discreetLSP(x,y,2,0.8))"
   ]
  },
  {
   "cell_type": "code",
   "execution_count": 3,
   "metadata": {
    "collapsed": false
   },
   "outputs": [
    {
     "name": "stdout",
     "output_type": "stream",
     "text": [
      "0.980162407441\n"
     ]
    }
   ],
   "source": [
    "\"\"\"\n",
    "#P2\n",
    "\"\"\"\n",
    "\n",
    "def conLSP(degree):\n",
    "    \n",
    "    a = np.zeros(degree + 1)\n",
    "    xExpInt = np.zeros(2 * degree + 1)\n",
    "    xSinInt = np.zeros(degree + 1)\n",
    "    AMat = np.zeros([degree + 1, degree + 2])\n",
    "    rangeStart = 0\n",
    "    rangeEnd   = 1\n",
    "    \n",
    "    # Fill xExp with exponentiated x's\n",
    "    for power in range(2 * degree + 1):\n",
    "        xExpInt[power] = quad(lambda x: x**power, rangeStart, rangeEnd)[0]\n",
    "\n",
    "    # Fill x times sin integrals\n",
    "    for power in range(degree + 1):\n",
    "        xSinInt[power] = quad(lambda x: (x**power)*math.sin(pi*x), rangeStart, rangeEnd)[0]\n",
    "        \n",
    "    # Fill AMat with values\n",
    "    for i in range(degree+1):\n",
    "        for j in range(degree+2):\n",
    "            if j != degree + 1:\n",
    "                AMat[i,j] = xExpInt[i+j]\n",
    "            else:\n",
    "                AMat[i,j] = xSinInt[i]\n",
    "    \n",
    "    # Solve for coefficients \n",
    "    a = GaussianElimination(AMat)\n",
    "    \n",
    "    # Set x approximation value and plug into equation\n",
    "    xApp = 0.5\n",
    "    approximation = a[0] + a[1]*xApp + a[2]*(xApp**2)\n",
    "    \n",
    "    return approximation\n",
    "    \n",
    "print(conLSP(2))"
   ]
  },
  {
   "cell_type": "code",
   "execution_count": 29,
   "metadata": {
    "collapsed": false
   },
   "outputs": [
    {
     "name": "stdout",
     "output_type": "stream",
     "text": [
      "a =  [-4.7747301  -8.06612334  2.06711678] \n",
      "b =  [ 0.]\n"
     ]
    }
   ],
   "source": [
    "\"\"\"\n",
    "#P3\n",
    "\"\"\"\n",
    "\n",
    "x = np.array([-pi, -9*pi/10, -8*pi/10, -7*pi/10, -6*pi/10, -5*pi/10,\n",
    "              -4*pi/10, -3*pi/10, -2*pi/10, -pi/10, 0, pi/10, 2*pi/10,\n",
    "              3*pi/10, 4*pi/10, 5*pi/10, 6*pi/10, 7*pi/10, 8*pi/10, 9*pi/10])\n",
    "\n",
    "# Fill y\n",
    "def f(x): return 2 * x**2 - 9\n",
    "y = [f(z) for z in x]\n",
    "\n",
    "def dlstp(x,y,n):\n",
    "    \n",
    "    # Set m to 3\n",
    "    m = len(x) / 2\n",
    "    a = np.zeros(n + 1)\n",
    "    b = np.zeros(n - 1)\n",
    "    ycos = np.zeros(len(x))\n",
    "    ysin = np.zeros(len(x))\n",
    "\n",
    "    # Create the a's and b's for non zero or 'n' index\n",
    "    for i in range(n + 1):\n",
    "        \n",
    "        # Find a and b for middle terms\n",
    "        if i != 0 and i != n:\n",
    "            \n",
    "            for z in range(len(x)):\n",
    "                \n",
    "                ycos[z] = y[z] * cos(i * x[z])\n",
    "                ysin[z] = y[z] * sin(i * x[z]) \n",
    "            \n",
    "            a[i] = (1/m) * sum(ycos)\n",
    "            b[i-1] = (1/m) * sum(ysin)\n",
    "            \n",
    "        # Find a's on ends\n",
    "        else:\n",
    "            \n",
    "             for z in range(len(x)):\n",
    "                \n",
    "                ycos[z] = y[z] * cos(i * x[z])\n",
    "            \n",
    "             a[i] = (1/m) * sum(ycos)\n",
    "        \n",
    "    return a,b \n",
    "\n",
    "a,b = dlstp(x,y,2)\n",
    "    \n",
    "print('a = ', a, '\\nb = ', b)"
   ]
  },
  {
   "cell_type": "code",
   "execution_count": 30,
   "metadata": {
    "collapsed": false
   },
   "outputs": [
    {
     "data": {
      "text/plain": [
       "[<matplotlib.lines.Line2D at 0x27ebaa73b00>]"
      ]
     },
     "execution_count": 30,
     "metadata": {},
     "output_type": "execute_result"
    },
    {
     "data": {
      "image/png": "[encoded data removed]",
      "text/plain": [
       "<matplotlib.figure.Figure at 0x27ebaa731d0>"
      ]
     },
     "metadata": {},
     "output_type": "display_data"
    }
   ],
   "source": [
    "\"\"\"\n",
    "#P4\n",
    "\"\"\"\n",
    "\n",
    "import matplotlib.pyplot as plt\n",
    "import numpy as np\n",
    "%matplotlib inline\n",
    "\n",
    "n = 3\n",
    "\n",
    "a,b = dlstp(x,y,n)\n",
    "\n",
    "def f(x):\n",
    "    return 2 * x**2 - 9\n",
    "\n",
    "def g(x):\n",
    "    endTerms = [ a[z] * cos(z*x) + b[z-1] * sin(z*x) for z in range(1,n) ]\n",
    "    sol = ( a[0] / 2 ) + ( a[n] * cos(n*x) ) + sum(endTerms)\n",
    "    return sol\n",
    "\n",
    "g2 = np.vectorize(g)\n",
    "s = np.arange(-pi, pi, 0.01)\n",
    "plt.plot(s,  f(s), 'b')\n",
    "plt.plot(s, g2(s), 'r')\n"
   ]
  },
  {
   "cell_type": "code",
   "execution_count": 31,
   "metadata": {
    "collapsed": false
   },
   "outputs": [
    {
     "data": {
      "text/plain": [
       "[<matplotlib.lines.Line2D at 0x27ebab7fcc0>]"
      ]
     },
     "execution_count": 31,
     "metadata": {},
     "output_type": "execute_result"
    },
    {
     "data": {
      "image/png": "[encoded data removed]",
      "text/plain": [
       "<matplotlib.figure.Figure at 0x27ebaa12e80>"
      ]
     },
     "metadata": {},
     "output_type": "display_data"
    }
   ],
   "source": [
    "n = 6\n",
    "\n",
    "a,b = dlstp(x,y,n)\n",
    "\n",
    "def f(x):\n",
    "    return 2 * x**2 - 9\n",
    "\n",
    "def g(x):\n",
    "    endTerms = [ a[z] * cos(z*x) + b[z-1] * sin(z*x) for z in range(1,n) ]\n",
    "    sol = ( a[0] / 2 ) + ( a[n] * cos(n*x) ) + sum(endTerms)\n",
    "    return sol\n",
    "\n",
    "g2 = np.vectorize(g)\n",
    "s = np.arange(-pi, pi, 0.01)\n",
    "plt.plot(s,  f(s), 'b')\n",
    "plt.plot(s, g2(s), 'r')"
   ]
  },
  {
   "cell_type": "code",
   "execution_count": 36,
   "metadata": {
    "collapsed": false
   },
   "outputs": [
    {
     "data": {
      "text/plain": [
       "[<matplotlib.lines.Line2D at 0x27ebbd6d630>]"
      ]
     },
     "execution_count": 36,
     "metadata": {},
     "output_type": "execute_result"
    },
    {
     "data": {
      "image/png": "[encoded data removed]",
      "text/plain": [
       "<matplotlib.figure.Figure at 0x27ebab714e0>"
      ]
     },
     "metadata": {},
     "output_type": "display_data"
    }
   ],
   "source": [
    "n = 14\n",
    "\n",
    "a,b = dlstp(x,y,n)\n",
    "\n",
    "def f(x):\n",
    "    return 2 * x**2 - 9\n",
    "\n",
    "def g(x):\n",
    "    endTerms = [ a[z] * cos(z*x) + b[z-1] * sin(z*x) for z in range(1,n) ]\n",
    "    sol = ( a[0] / 2 ) + ( a[n] * cos(n*x) ) + sum(endTerms)\n",
    "    return sol\n",
    "\n",
    "g2 = np.vectorize(g)\n",
    "s = np.arange(-pi, pi, 0.01)\n",
    "plt.plot(s,  f(s), 'b')\n",
    "plt.plot(s, g2(s), 'r')"
   ]
  },
  {
   "cell_type": "markdown",
   "metadata": {},
   "source": [
    "As 'n' increases the average distance between f(x) and g(x) for any given 'x' becomes less."
   ]
  },
  {
   "cell_type": "code",
   "execution_count": null,
   "metadata": {
    "collapsed": true
   },
   "outputs": [],
   "source": []
  }
 ],
 "metadata": {
  "anaconda-cloud": {},
  "kernelspec": {
   "display_name": "Python [conda root]",
   "language": "python",
   "name": "conda-root-py"
  },
  "language_info": {
   "codemirror_mode": {
    "name": "ipython",
    "version": 3
   },
   "file_extension": ".py",
   "mimetype": "text/x-python",
   "name": "python",
   "nbconvert_exporter": "python",
   "pygments_lexer": "ipython3",
   "version": "3.5.2"
  }
 },
 "nbformat": 4,
 "nbformat_minor": 1
}
