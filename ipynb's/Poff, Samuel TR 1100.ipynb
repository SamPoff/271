{
 "cells": [
  {
   "cell_type": "code",
   "execution_count": 34,
   "metadata": {
    "collapsed": false
   },
   "outputs": [],
   "source": [
    "from math import cos, pi"
   ]
  },
  {
   "cell_type": "code",
   "execution_count": 59,
   "metadata": {
    "collapsed": true
   },
   "outputs": [],
   "source": [
    "def bi(a,b):\n",
    "    if f(a) * f(b) > 0:\n",
    "        print ('Chose different a and b.')\n",
    "    for i in range(100):\n",
    "        p = (a + b) / 2.0\n",
    "        print(i,p)\n",
    "        if f(a) * f(p) > 0:\n",
    "            a = p\n",
    "        else:\n",
    "            b = p\n",
    "        pNew = (a + b) / 2.0\n",
    "        if abs(pNew - p) < 1e-5:\n",
    "            break\n",
    "    return pNew"
   ]
  },
  {
   "cell_type": "code",
   "execution_count": 60,
   "metadata": {
    "collapsed": false
   },
   "outputs": [
    {
     "name": "stdout",
     "output_type": "stream",
     "text": [
      "0 1.5707963267948966\n",
      "1 0.7853981633974483\n",
      "2 0.39269908169872414\n",
      "3 0.5890486225480862\n",
      "4 0.6872233929727672\n",
      "5 0.7363107781851077\n",
      "6 0.760854470791278\n",
      "7 0.7485826244881928\n",
      "8 0.7424467013366502\n",
      "9 0.739378739760879\n",
      "10 0.7378447589729933\n",
      "11 0.7386117493669362\n",
      "12 0.7389952445639076\n",
      "13 0.7391869921623933\n",
      "14 0.7390911183631504\n",
      "15 0.739043181463529\n",
      "16 0.7390671499133397\n",
      "17 0.739079134138245\n"
     ]
    },
    {
     "data": {
      "text/plain": [
       "0.7390851262506977"
      ]
     },
     "execution_count": 60,
     "metadata": {},
     "output_type": "execute_result"
    }
   ],
   "source": [
    "bi(0,pi)"
   ]
  },
  {
   "cell_type": "code",
   "execution_count": null,
   "metadata": {
    "collapsed": true
   },
   "outputs": [],
   "source": []
  }
 ],
 "metadata": {
  "anaconda-cloud": {},
  "kernelspec": {
   "display_name": "Python [default]",
   "language": "python",
   "name": "python3"
  },
  "language_info": {
   "codemirror_mode": {
    "name": "ipython",
    "version": 3
   },
   "file_extension": ".py",
   "mimetype": "text/x-python",
   "name": "python",
   "nbconvert_exporter": "python",
   "pygments_lexer": "ipython3",
   "version": "3.5.2"
  }
 },
 "nbformat": 4,
 "nbformat_minor": 1
}
