{
 "cells": [
  {
   "cell_type": "markdown",
   "metadata": {},
   "source": [
    "## 7"
   ]
  },
  {
   "cell_type": "code",
   "execution_count": 5,
   "metadata": {
    "collapsed": true
   },
   "outputs": [],
   "source": [
    "def f(x):\n",
    "    return 1 - x*x\n",
    "    \n",
    "def df(x):\n",
    "    return -2 * x\n",
    "\n",
    "def newtonsFavWay(p, max, tol):\n",
    "    pn = 0\n",
    "    for i in range(max):\n",
    "        print(i, p)\n",
    "        if df(p) == 0:\n",
    "            print('Divide by zero')\n",
    "        else:\n",
    "            pn = p - ( f(p) / df(p) )\n",
    "            if abs(pn - p) < tol:\n",
    "                return pn\n",
    "            else:\n",
    "                p = pn"
   ]
  },
  {
   "cell_type": "code",
   "execution_count": 9,
   "metadata": {
    "collapsed": false
   },
   "outputs": [
    {
     "name": "stdout",
     "output_type": "stream",
     "text": [
      "0 2.5\n",
      "1 1.45\n",
      "2 1.0698275862068964\n",
      "3 1.0022788213065104\n",
      "4 1.0000025906097367\n"
     ]
    },
    {
     "data": {
      "text/plain": [
       "1.0000000000033555"
      ]
     },
     "execution_count": 9,
     "metadata": {},
     "output_type": "execute_result"
    }
   ],
   "source": [
    "newtonsFavWay(2.5, 100, 1e-5)"
   ]
  },
  {
   "cell_type": "code",
   "execution_count": 10,
   "metadata": {
    "collapsed": false
   },
   "outputs": [
    {
     "name": "stdout",
     "output_type": "stream",
     "text": [
      "0 -10\n",
      "1 -5.05\n",
      "2 -2.624009900990099\n",
      "3 -1.5025530119986812\n",
      "4 -1.0840434673026924\n",
      "5 -1.0032578510960606\n",
      "6 -1.0000052895642693\n"
     ]
    },
    {
     "data": {
      "text/plain": [
       "-1.0000000000139897"
      ]
     },
     "execution_count": 10,
     "metadata": {},
     "output_type": "execute_result"
    }
   ],
   "source": [
    "newtonsFavWay(-10, 100, 1e-5)"
   ]
  },
  {
   "cell_type": "code",
   "execution_count": 11,
   "metadata": {
    "collapsed": false
   },
   "outputs": [
    {
     "name": "stdout",
     "output_type": "stream",
     "text": [
      "0 0\n",
      "Divide by zero\n",
      "1 0\n",
      "Divide by zero\n",
      "2 0\n",
      "Divide by zero\n",
      "3 0\n",
      "Divide by zero\n",
      "4 0\n",
      "Divide by zero\n",
      "5 0\n",
      "Divide by zero\n",
      "6 0\n",
      "Divide by zero\n",
      "7 0\n",
      "Divide by zero\n",
      "8 0\n",
      "Divide by zero\n",
      "9 0\n",
      "Divide by zero\n",
      "10 0\n",
      "Divide by zero\n",
      "11 0\n",
      "Divide by zero\n",
      "12 0\n",
      "Divide by zero\n",
      "13 0\n",
      "Divide by zero\n",
      "14 0\n",
      "Divide by zero\n",
      "15 0\n",
      "Divide by zero\n",
      "16 0\n",
      "Divide by zero\n",
      "17 0\n",
      "Divide by zero\n",
      "18 0\n",
      "Divide by zero\n",
      "19 0\n",
      "Divide by zero\n",
      "20 0\n",
      "Divide by zero\n",
      "21 0\n",
      "Divide by zero\n",
      "22 0\n",
      "Divide by zero\n",
      "23 0\n",
      "Divide by zero\n",
      "24 0\n",
      "Divide by zero\n",
      "25 0\n",
      "Divide by zero\n",
      "26 0\n",
      "Divide by zero\n",
      "27 0\n",
      "Divide by zero\n",
      "28 0\n",
      "Divide by zero\n",
      "29 0\n",
      "Divide by zero\n",
      "30 0\n",
      "Divide by zero\n",
      "31 0\n",
      "Divide by zero\n",
      "32 0\n",
      "Divide by zero\n",
      "33 0\n",
      "Divide by zero\n",
      "34 0\n",
      "Divide by zero\n",
      "35 0\n",
      "Divide by zero\n",
      "36 0\n",
      "Divide by zero\n",
      "37 0\n",
      "Divide by zero\n",
      "38 0\n",
      "Divide by zero\n",
      "39 0\n",
      "Divide by zero\n",
      "40 0\n",
      "Divide by zero\n",
      "41 0\n",
      "Divide by zero\n",
      "42 0\n",
      "Divide by zero\n",
      "43 0\n",
      "Divide by zero\n",
      "44 0\n",
      "Divide by zero\n",
      "45 0\n",
      "Divide by zero\n",
      "46 0\n",
      "Divide by zero\n",
      "47 0\n",
      "Divide by zero\n",
      "48 0\n",
      "Divide by zero\n",
      "49 0\n",
      "Divide by zero\n",
      "50 0\n",
      "Divide by zero\n",
      "51 0\n",
      "Divide by zero\n",
      "52 0\n",
      "Divide by zero\n",
      "53 0\n",
      "Divide by zero\n",
      "54 0\n",
      "Divide by zero\n",
      "55 0\n",
      "Divide by zero\n",
      "56 0\n",
      "Divide by zero\n",
      "57 0\n",
      "Divide by zero\n",
      "58 0\n",
      "Divide by zero\n",
      "59 0\n",
      "Divide by zero\n",
      "60 0\n",
      "Divide by zero\n",
      "61 0\n",
      "Divide by zero\n",
      "62 0\n",
      "Divide by zero\n",
      "63 0\n",
      "Divide by zero\n",
      "64 0\n",
      "Divide by zero\n",
      "65 0\n",
      "Divide by zero\n",
      "66 0\n",
      "Divide by zero\n",
      "67 0\n",
      "Divide by zero\n",
      "68 0\n",
      "Divide by zero\n",
      "69 0\n",
      "Divide by zero\n",
      "70 0\n",
      "Divide by zero\n",
      "71 0\n",
      "Divide by zero\n",
      "72 0\n",
      "Divide by zero\n",
      "73 0\n",
      "Divide by zero\n",
      "74 0\n",
      "Divide by zero\n",
      "75 0\n",
      "Divide by zero\n",
      "76 0\n",
      "Divide by zero\n",
      "77 0\n",
      "Divide by zero\n",
      "78 0\n",
      "Divide by zero\n",
      "79 0\n",
      "Divide by zero\n",
      "80 0\n",
      "Divide by zero\n",
      "81 0\n",
      "Divide by zero\n",
      "82 0\n",
      "Divide by zero\n",
      "83 0\n",
      "Divide by zero\n",
      "84 0\n",
      "Divide by zero\n",
      "85 0\n",
      "Divide by zero\n",
      "86 0\n",
      "Divide by zero\n",
      "87 0\n",
      "Divide by zero\n",
      "88 0\n",
      "Divide by zero\n",
      "89 0\n",
      "Divide by zero\n",
      "90 0\n",
      "Divide by zero\n",
      "91 0\n",
      "Divide by zero\n",
      "92 0\n",
      "Divide by zero\n",
      "93 0\n",
      "Divide by zero\n",
      "94 0\n",
      "Divide by zero\n",
      "95 0\n",
      "Divide by zero\n",
      "96 0\n",
      "Divide by zero\n",
      "97 0\n",
      "Divide by zero\n",
      "98 0\n",
      "Divide by zero\n",
      "99 0\n",
      "Divide by zero\n"
     ]
    }
   ],
   "source": [
    "newtonsFavWay(0, 100, 1e-5)"
   ]
  },
  {
   "cell_type": "code",
   "execution_count": null,
   "metadata": {
    "collapsed": true
   },
   "outputs": [],
   "source": []
  },
  {
   "cell_type": "markdown",
   "metadata": {},
   "source": [
    "The p = 0 attempt did not work because at p = 0 the slope of the graph is zero. This means that the derivative will be zero and will create a divide by zero error."
   ]
  },
  {
   "cell_type": "code",
   "execution_count": null,
   "metadata": {
    "collapsed": true
   },
   "outputs": [],
   "source": []
  }
 ],
 "metadata": {
  "anaconda-cloud": {},
  "kernelspec": {
   "display_name": "Python [conda root]",
   "language": "python",
   "name": "conda-root-py"
  },
  "language_info": {
   "codemirror_mode": {
    "name": "ipython",
    "version": 3
   },
   "file_extension": ".py",
   "mimetype": "text/x-python",
   "name": "python",
   "nbconvert_exporter": "python",
   "pygments_lexer": "ipython3",
   "version": "3.5.2"
  }
 },
 "nbformat": 4,
 "nbformat_minor": 1
}
