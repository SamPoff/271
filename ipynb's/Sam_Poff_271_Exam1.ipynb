{
 "cells": [
  {
   "cell_type": "markdown",
   "metadata": {},
   "source": [
    "## Exam 1 Coding Portion"
   ]
  },
  {
   "cell_type": "markdown",
   "metadata": {},
   "source": [
    "## Problem 1"
   ]
  },
  {
   "cell_type": "code",
   "execution_count": 11,
   "metadata": {
    "collapsed": true
   },
   "outputs": [],
   "source": [
    "import numpy as np\n",
    "from math import pi\n",
    "from math import sin"
   ]
  },
  {
   "cell_type": "code",
   "execution_count": 12,
   "metadata": {
    "collapsed": false
   },
   "outputs": [
    {
     "name": "stdout",
     "output_type": "stream",
     "text": [
      "\n",
      "Jacobi\n",
      "\n",
      "32  Iterations\n",
      "\n",
      "L2 Norm  1.7545303669 \n",
      "\n",
      "x[ 0 ] =  [ 1.53873314]\n",
      "x[ 1 ] =  [ 0.73142015]\n",
      "x[ 2 ] =  [ 0.1079682]\n",
      "x[ 3 ] =  [ 0.17328272]\n",
      "x[ 4 ] =  [ 0.04055414]\n",
      "x[ 5 ] =  [ 0.08524651]\n",
      "x[ 6 ] =  [ 0.16644472]\n",
      "x[ 7 ] =  [ 0.12197692]\n",
      "x[ 8 ] =  [ 0.10124596]\n",
      "x[ 9 ] =  [ 0.09045418]\n"
     ]
    }
   ],
   "source": [
    "\"\"\"\n",
    "Problem One Jacobi\n",
    "\"\"\"\n",
    "\n",
    "# Initialize an array of zeros for X\n",
    "x = np.zeros([80,1]) \n",
    "b = []\n",
    "for i in range(81):\n",
    "    b.append(pi)\n",
    "counter = 0\n",
    "\n",
    "A = np.zeros((80,80))\n",
    "for i in range(1,81):\n",
    "    for j in range(1,81):\n",
    "        if j == i:\n",
    "            A[i-1,j-1] = 2*i\n",
    "        elif j == i + 2 and i in range(1,79) or j == i - 2 and i in range(3,81):\n",
    "            A[i-1,j-1] = 0.5*i\n",
    "        elif j == i + 4 and i in range(1,77) or j == i - 4 and i in range(5,81):\n",
    "            A[i-1,j-1] = 0.25*i\n",
    "        else:\n",
    "            A[i-1,j-1] = 0.0\n",
    "\n",
    "# Fill b\n",
    "for i in range(1,81):\n",
    "    b[i] = pi\n",
    "\n",
    "tol = 1e-5\n",
    "\n",
    "for k in range(300):\n",
    "    # Copy old 'x' for x(k-1)\n",
    "    counter += 1\n",
    "    x_old = x.copy() \n",
    "    for i in range(1, 81):\n",
    "        s = 0.0\n",
    "        for j in range(1, 81):\n",
    "            if j != i:\n",
    "                s = s + (A[i-1,j-1] * x_old[j-1])\n",
    "        \n",
    "        x[i-1] = (b[i-1] - s) / A[i-1,i-1]\n",
    "\n",
    "    delta = np.linalg.norm((x - x_old),np.inf)/ np.linalg.norm((x),np.inf);\n",
    "\n",
    "    if(delta < tol):\n",
    "        break\n",
    "\n",
    "print('\\nJacobi\\n')\n",
    "print(counter, ' Iterations\\n')\n",
    "print('L2 Norm ', np.linalg.norm(x,2), '\\n')\n",
    "for i in range(10):\n",
    "    print('x[', i, '] = ', x[i])"
   ]
  },
  {
   "cell_type": "code",
   "execution_count": 13,
   "metadata": {
    "collapsed": false
   },
   "outputs": [
    {
     "name": "stdout",
     "output_type": "stream",
     "text": [
      "\n",
      "Gauss Seidel\n",
      "\n",
      "8  Iterations\n",
      "\n",
      "L2 Norm  1.75453363912 \n",
      "\n",
      "x[ 0 ] =  [ 1.5387327]\n",
      "x[ 1 ] =  [ 0.73141966]\n",
      "x[ 2 ] =  [ 0.10796931]\n",
      "x[ 3 ] =  [ 0.1732834]\n",
      "x[ 4 ] =  [ 0.04055595]\n",
      "x[ 5 ] =  [ 0.08524787]\n",
      "x[ 6 ] =  [ 0.16644711]\n",
      "x[ 7 ] =  [ 0.12197878]\n",
      "x[ 8 ] =  [ 0.10124911]\n",
      "x[ 9 ] =  [ 0.09045662]\n"
     ]
    }
   ],
   "source": [
    "\"\"\"\n",
    "Problem One GS\n",
    "\"\"\"\n",
    "\n",
    "# Initialize an array of zeros for X\n",
    "x = np.zeros([80,1]) \n",
    "b = []\n",
    "for i in range(81):\n",
    "    b.append(pi)\n",
    "counter = 0\n",
    "\n",
    "A = np.zeros((80,80))\n",
    "for i in range(1,81):\n",
    "    for j in range(1,81):\n",
    "        if j == i:\n",
    "            A[i-1,j-1] = 2*i\n",
    "        elif j == i + 2 and i in range(1,79) or j == i - 2 and i in range(3,81):\n",
    "            A[i-1,j-1] = 0.5*i\n",
    "        elif j == i + 4 and i in range(1,77) or j == i - 4 and i in range(5,81):\n",
    "            A[i-1,j-1] = 0.25*i\n",
    "        else:\n",
    "            A[i-1,j-1] = 0.0\n",
    "\n",
    "# Fill b\n",
    "for i in range(1,81):\n",
    "    b[i] = pi\n",
    "\n",
    "\n",
    "for k in range(300): \n",
    "    # Copy old 'x' for x(k-1)\n",
    "    counter += 1\n",
    "    x_old = x.copy() \n",
    "    for i in range(1, 81):\n",
    "        s = 0.0\n",
    "        for j in range(1, 81):\n",
    "            if j != i:\n",
    "                s = s + (A[i-1,j-1] * x[j-1])\n",
    "        \n",
    "        x[i-1] = (b[i-1] - s) / A[i-1,i-1]\n",
    "\n",
    "    delta = np.linalg.norm((x - x_old),np.inf)/ np.linalg.norm((x),np.inf);\n",
    "\n",
    "    if(delta < tol):\n",
    "        break\n",
    "\n",
    "print('\\nGauss Seidel\\n')\n",
    "print(counter, ' Iterations\\n')\n",
    "print('L2 Norm ', np.linalg.norm(x,2), '\\n')\n",
    "for i in range(10):\n",
    "    print('x[', i, '] = ', x[i])"
   ]
  },
  {
   "cell_type": "markdown",
   "metadata": {},
   "source": [
    "## Problem 2"
   ]
  },
  {
   "cell_type": "code",
   "execution_count": 14,
   "metadata": {
    "collapsed": false
   },
   "outputs": [
    {
     "name": "stdout",
     "output_type": "stream",
     "text": [
      "\n",
      "Problem Two Part A Solution Vector\n",
      "\n",
      "\n",
      "X[ 0 ] = 0.678504672897\n",
      "\n",
      "X[ 1 ] = 0.421495327103\n",
      "\n",
      "X[ 2 ] = 0.257009345794\n",
      "\n",
      "X[ 3 ] = 0.154205607477\n",
      "\n",
      "X[ 4 ] = 0.102803738318\n"
     ]
    }
   ],
   "source": [
    "\"\"\"\n",
    "Problem Two Gaussian Elimination\n",
    "\"\"\"\n",
    "\n",
    "A = np.array([[5,  5,  0,  0,  0, 5.5], \n",
    "              [0,  0,  1, -1, -1, 0  ],\n",
    "              [0,  0,  0,  2, -3, 0  ],\n",
    "              [1, -1, -1,  0,  0, 0  ],\n",
    "              [0,  5, -7, -2,  0, 0 ]])\n",
    "\n",
    "numrows = 5\n",
    "numcols = 6\n",
    "\n",
    "for col in range(numcols - 1):\n",
    "    \n",
    "    # Pivoting\n",
    "    maxRow = np.argmax(abs(A[col:numrows, col]))\n",
    "    temp = A[maxRow + col].copy()\n",
    "    A[maxRow + col] = A[col]\n",
    "    A[col] = temp\n",
    "    \n",
    "    # Gaussian Elimination\n",
    "    for row in range(col + 1, numrows):\n",
    "        # print(A, '\\n')\n",
    "        A[row] = A[row] - (A[row, col]/A[col, col]) * A[col]\n",
    " \n",
    "# Make solution array\n",
    "x = np.array([0.0,0.0,0.0,0.0,0.0])\n",
    "        \n",
    "# Backsub\n",
    "for i in range(numrows - 1, -1, -1):\n",
    "    hold = 0.0\n",
    "    for j in range(i + 1, numrows): \n",
    "        hold = hold + A[i,j] * x[j]\n",
    "    x[i] = (A[i, numcols - 1] - hold) / A[i, i]\n",
    "    \n",
    "print('\\nProblem Two Part A Solution Vector\\n')\n",
    "for z in range(5):\n",
    "    print('\\nX[',z,'] =', x[z])"
   ]
  },
  {
   "cell_type": "code",
   "execution_count": 15,
   "metadata": {
    "collapsed": false
   },
   "outputs": [
    {
     "name": "stdout",
     "output_type": "stream",
     "text": [
      "\n",
      "Jacobi\n",
      "\n",
      "Solution Vector\n",
      "\n",
      "8.74063756428e+171\n",
      "-5.8937668075e+171\n",
      "9.89251041639e+171\n",
      "-4.92355881302e+170\n",
      "-4.46906346968e+171\n",
      "\n",
      " 1000  Iterations. Does not converge.\n"
     ]
    }
   ],
   "source": [
    "\"\"\"\n",
    "Problem Two Jacobi\n",
    "\"\"\"\n",
    "print('\\nJacobi\\n')\n",
    "\n",
    "import numpy as np\n",
    "\n",
    "# Matrix rows reaaranged such that A[i,i] != 0\n",
    "A = np.array([[5,  5,  0,  0,  0],\n",
    "              [0,  5, -7, -2,  0],\n",
    "              [1, -1, -1,  0,  0],\n",
    "              [0,  0,  1, -1, -1],\n",
    "              [0,  0,  0,  2, -3],])\n",
    "    \n",
    "A = A * 1.0\n",
    "\n",
    "# Fill b\n",
    "b = [5.5, 0.0, 0.0, 0.0, 0.0]\n",
    "counter = 0\n",
    "x = np.array([0.0,0.0,0.0,0.0,0.0])\n",
    "\n",
    "tol = 1e-5\n",
    "\n",
    "for k in range(1000):\n",
    "    # Copy old 'x' for x(k-1)\n",
    "    counter += 1\n",
    "    x_old = x.copy() \n",
    "    for i in range(5):\n",
    "        s = 0.0\n",
    "        for j in range(5):\n",
    "            if j != i:\n",
    "                s = s + (A[i,j] * x_old[j])\n",
    "        \n",
    "            x[i] = (b[i] - s) / A[i,i]\n",
    "\n",
    "    delta = np.linalg.norm((x - x_old),np.inf)/ np.linalg.norm((x),np.inf);\n",
    "\n",
    "    if(delta < tol):\n",
    "        break\n",
    "\n",
    "print('Solution Vector\\n')\n",
    "for i in range(5):\n",
    "    print(x[i])\n",
    "print('\\n', counter, ' Iterations. Does not converge.')"
   ]
  },
  {
   "cell_type": "code",
   "execution_count": 16,
   "metadata": {
    "collapsed": false
   },
   "outputs": [
    {
     "name": "stdout",
     "output_type": "stream",
     "text": [
      "\n",
      "Gauss Seidel\n",
      "\n",
      "Solution Vector\n",
      "\n",
      "-1.1350734463e+110\n",
      "-4.35933505809e+110\n",
      "3.22426161178e+110\n",
      "4.76349390404e+110\n",
      "3.17566260269e+110\n",
      "\n",
      " 1000  Iterations. Does not converge.\n"
     ]
    }
   ],
   "source": [
    "\"\"\"\n",
    "Problem Two Gauss Seidel\n",
    "\"\"\"\n",
    "print('\\nGauss Seidel\\n')\n",
    "\n",
    "# Matrix rows reaaranged such that A[i,i] != 0\n",
    "A = np.array([[5,  5,  0,  0,  0],\n",
    "              [0,  5, -7, -2,  0],\n",
    "              [1, -1, -1,  0,  0],\n",
    "              [0,  0,  1, -1, -1],\n",
    "              [0,  0,  0,  2, -3],])\n",
    "    \n",
    "A = A * 1.0\n",
    "\n",
    "# Fill b\n",
    "b = [5.5, 0.0, 0.0, 0.0, 0.0]\n",
    "counter = 0\n",
    "x = np.array([0.0,0.0,0.0,0.0,0.0])\n",
    "\n",
    "tol = 1e-5\n",
    "\n",
    "for k in range(1000):\n",
    "    # Copy old 'x' for x(k-1)\n",
    "    counter += 1\n",
    "    x_old = x.copy() \n",
    "    for i in range(5):\n",
    "        s = 0.0\n",
    "        for j in range(5):\n",
    "            if j != i:\n",
    "                s = s + (A[i,j] * x[j])\n",
    "        \n",
    "            x[i] = (b[i] - s) / A[i,i]\n",
    "\n",
    "    delta = np.linalg.norm((x - x_old),np.inf)/ np.linalg.norm((x),np.inf);\n",
    "\n",
    "    if(delta < tol):\n",
    "        break\n",
    "\n",
    "print('Solution Vector\\n')\n",
    "for i in range(5):\n",
    "    print(x[i])\n",
    "print('\\n', counter, ' Iterations. Does not converge.')"
   ]
  },
  {
   "cell_type": "markdown",
   "metadata": {},
   "source": [
    "## Problem 3"
   ]
  },
  {
   "cell_type": "code",
   "execution_count": 17,
   "metadata": {
    "collapsed": false
   },
   "outputs": [
    {
     "name": "stdout",
     "output_type": "stream",
     "text": [
      "5  Iterations\n",
      "\n",
      "1 / root(x) =~  0.4472135954952802\n"
     ]
    }
   ],
   "source": [
    "\"\"\"\n",
    "Problem Three\n",
    "\"\"\"\n",
    "import math\n",
    "\n",
    "\"\"\"\n",
    "Approximate 1/root(x) given:\n",
    "x - x value we are approximating in 1/root(x)\n",
    "p - Initial guess.\n",
    "max - Max number of iterations.\n",
    "tol - Tolerance of precision.\n",
    "\"\"\"\n",
    "def newtonsFavWay(p, max, tol, x):\n",
    "    pn = 0.0\n",
    "    counter = 0\n",
    "    for i in range(max):\n",
    "        counter += 1\n",
    "        # Formula given in problem\n",
    "        pn = (1.5 * p) - (0.5 * x * math.pow(p,3))\n",
    "        # Check if tolerance is met.\n",
    "        if abs(pn - p) < tol:\n",
    "            print(counter, ' Iterations')\n",
    "            return pn\n",
    "        # If tolerance isn't met, migrate to new p.\n",
    "        else:\n",
    "            p = pn\n",
    "\n",
    "# Approximate 1/root(5)\n",
    "sol = newtonsFavWay(0.3, 20, 1e-5, 5)\n",
    "print('\\n1 / root(x) =~ ', sol)"
   ]
  },
  {
   "cell_type": "code",
   "execution_count": null,
   "metadata": {
    "collapsed": true
   },
   "outputs": [],
   "source": []
  }
 ],
 "metadata": {
  "anaconda-cloud": {},
  "kernelspec": {
   "display_name": "Python [default]",
   "language": "python",
   "name": "python3"
  },
  "language_info": {
   "codemirror_mode": {
    "name": "ipython",
    "version": 3
   },
   "file_extension": ".py",
   "mimetype": "text/x-python",
   "name": "python",
   "nbconvert_exporter": "python",
   "pygments_lexer": "ipython3",
   "version": "3.5.2"
  }
 },
 "nbformat": 4,
 "nbformat_minor": 2
}
