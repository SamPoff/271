{
 "cells": [
  {
   "cell_type": "code",
   "execution_count": 22,
   "metadata": {
    "collapsed": false
   },
   "outputs": [
    {
     "name": "stdout",
     "output_type": "stream",
     "text": [
      " [[5 6 4 3 3]\n",
      " [3 6 7 8 4]\n",
      " [5 8 6 7 0]\n",
      " [3 7 5 8 6]] \n",
      "\n",
      "0 1\n",
      "0 2\n",
      "0 3\n",
      "1 2\n",
      "1 3\n",
      "2 3\n",
      "\n",
      " [[ 5  6  4  3  3]\n",
      " [ 0  2  4  6  2]\n",
      " [ 0  0 -2 -2 -5]\n",
      " [ 0  0  0  1 11]]\n"
     ]
    }
   ],
   "source": [
    "import numpy as np\n",
    "\n",
    "A = np.random.randint(9, size = (4, 5))\n",
    "\n",
    "print('', A, '\\n')\n",
    "\n",
    "numrows = 4\n",
    "numcols = 5\n",
    "\n",
    "for col in range(numcols):\n",
    "    for row in range(col + 1, numrows):\n",
    "        print(col, row)\n",
    "        A[row] = A[row] - (A[row, col]/A[col, col]) * A[col]\n",
    "        \n",
    "print('\\n', A)"
   ]
  },
  {
   "cell_type": "code",
   "execution_count": null,
   "metadata": {
    "collapsed": true
   },
   "outputs": [],
   "source": []
  },
  {
   "cell_type": "code",
   "execution_count": null,
   "metadata": {
    "collapsed": true
   },
   "outputs": [],
   "source": []
  }
 ],
 "metadata": {
  "kernelspec": {
   "display_name": "Python [conda root]",
   "language": "python",
   "name": "conda-root-py"
  },
  "language_info": {
   "codemirror_mode": {
    "name": "ipython",
    "version": 3
   },
   "file_extension": ".py",
   "mimetype": "text/x-python",
   "name": "python",
   "nbconvert_exporter": "python",
   "pygments_lexer": "ipython3",
   "version": "3.5.2"
  }
 },
 "nbformat": 4,
 "nbformat_minor": 1
}
