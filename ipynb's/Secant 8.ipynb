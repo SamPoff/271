{
 "cells": [
  {
   "cell_type": "markdown",
   "metadata": {},
   "source": [
    "## 8"
   ]
  },
  {
   "cell_type": "code",
   "execution_count": 18,
   "metadata": {
    "collapsed": true
   },
   "outputs": [],
   "source": [
    "def f(x):\n",
    "    return 1 - x*x\n",
    "\n",
    "def gimmeASecant(p1, p2, max):\n",
    "    for i in range(max):\n",
    "        if f(p2) - f(p1) == 0:\n",
    "            print('Divide by zero')\n",
    "        else:\n",
    "            pn = p2 - ( f(p2) * (p1 - p2) / (f(p1) - f(p2)) )\n",
    "            if abs(pn - p1) < 1e-5:\n",
    "                return pn\n",
    "            else:\n",
    "                print(i, p2, p1, pn)\n",
    "                p2 = p1\n",
    "                p1 = pn"
   ]
  },
  {
   "cell_type": "code",
   "execution_count": 19,
   "metadata": {
    "collapsed": false
   },
   "outputs": [
    {
     "name": "stdout",
     "output_type": "stream",
     "text": [
      "0 0 2.5 0.4\n",
      "1 2.5 0.4 0.6896551724137929\n",
      "2 0.4 0.6896551724137929 1.1708860759493671\n",
      "3 0.6896551724137929 1.1708860759493671 0.9714956011730205\n",
      "4 1.1708860759493671 0.9714956011730205 0.9977263599129633\n",
      "5 0.9714956011730205 0.9977263599129633 1.0000329108374326\n",
      "6 0.9977263599129633 1.0000329108374326 0.9999999625443364\n"
     ]
    },
    {
     "data": {
      "text/plain": [
       "0.9999999999993836"
      ]
     },
     "execution_count": 19,
     "metadata": {},
     "output_type": "execute_result"
    }
   ],
   "source": [
    "gimmeASecant(2.5,0,100)"
   ]
  },
  {
   "cell_type": "code",
   "execution_count": null,
   "metadata": {
    "collapsed": true
   },
   "outputs": [],
   "source": []
  },
  {
   "cell_type": "code",
   "execution_count": null,
   "metadata": {
    "collapsed": true
   },
   "outputs": [],
   "source": []
  }
 ],
 "metadata": {
  "kernelspec": {
   "display_name": "Python [conda root]",
   "language": "python",
   "name": "conda-root-py"
  },
  "language_info": {
   "codemirror_mode": {
    "name": "ipython",
    "version": 3
   },
   "file_extension": ".py",
   "mimetype": "text/x-python",
   "name": "python",
   "nbconvert_exporter": "python",
   "pygments_lexer": "ipython3",
   "version": "3.5.2"
  }
 },
 "nbformat": 4,
 "nbformat_minor": 1
}
