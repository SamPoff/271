{
 "cells": [
  {
   "cell_type": "markdown",
   "metadata": {},
   "source": [
    "## 6"
   ]
  },
  {
   "cell_type": "code",
   "execution_count": 37,
   "metadata": {
    "collapsed": false
   },
   "outputs": [],
   "source": [
    "from math import cos, sin\n",
    "\n",
    "def f(x):\n",
    "    return cos(x) - x\n",
    "    \n",
    "def df(x):\n",
    "    return -sin(x) - 1\n",
    "\n",
    "def newtonsFavWay(p, max, tol):\n",
    "    pn = 0\n",
    "    for i in range(max):\n",
    "        print(i, p)\n",
    "        if df(p) == 0:\n",
    "            print('Divide by zero')\n",
    "        else:\n",
    "            pn = p - ( f(p) / df(p) )\n",
    "            if abs(pn - p) < tol:\n",
    "                return pn\n",
    "            else:\n",
    "                p = pn\n",
    "    "
   ]
  },
  {
   "cell_type": "code",
   "execution_count": 38,
   "metadata": {
    "collapsed": false
   },
   "outputs": [
    {
     "name": "stdout",
     "output_type": "stream",
     "text": [
      "0 5\n",
      "1 -109.82056070484798\n",
      "2 15.960777561082068\n",
      "3 -6.615115461729538\n",
      "4 4.600099704729104\n",
      "5 -743.6197251930475\n",
      "6 3090.7583906372142\n",
      "7 -3606.140072709168\n",
      "8 -1024.218222635432\n",
      "9 65.25924707762556\n",
      "10 25.37140273241846\n",
      "11 5.63692971597947\n",
      "12 -6.52647233436393\n",
      "13 3.3496519726974086\n",
      "14 -2.1051947424657396\n",
      "15 9.340912110729942\n",
      "16 -0.19747756557924134\n",
      "17 1.2681072760549799\n",
      "18 0.771816587211259\n",
      "19 0.739313671562077\n",
      "20 0.7390851447450119\n"
     ]
    },
    {
     "data": {
      "text/plain": [
       "0.7390851332151607"
      ]
     },
     "execution_count": 38,
     "metadata": {},
     "output_type": "execute_result"
    }
   ],
   "source": [
    "newtonsFavWay(5, 100, 1e-5)"
   ]
  },
  {
   "cell_type": "code",
   "execution_count": null,
   "metadata": {
    "collapsed": true
   },
   "outputs": [],
   "source": []
  }
 ],
 "metadata": {
  "anaconda-cloud": {},
  "kernelspec": {
   "display_name": "Python [default]",
   "language": "python",
   "name": "python3"
  },
  "language_info": {
   "codemirror_mode": {
    "name": "ipython",
    "version": 3
   },
   "file_extension": ".py",
   "mimetype": "text/x-python",
   "name": "python",
   "nbconvert_exporter": "python",
   "pygments_lexer": "ipython3",
   "version": "3.5.2"
  }
 },
 "nbformat": 4,
 "nbformat_minor": 1
}
